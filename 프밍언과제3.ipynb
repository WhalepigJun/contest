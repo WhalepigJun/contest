{
  "nbformat": 4,
  "nbformat_minor": 0,
  "metadata": {
    "colab": {
      "name": "프밍언과제3.ipynb",
      "provenance": [],
      "collapsed_sections": [],
      "authorship_tag": "ABX9TyMEhcRuk1PEsSpsEx5UN8D/",
      "include_colab_link": true
    },
    "kernelspec": {
      "name": "python3",
      "display_name": "Python 3"
    }
  },
  "cells": [
    {
      "cell_type": "markdown",
      "metadata": {
        "id": "view-in-github",
        "colab_type": "text"
      },
      "source": [
        "<a href=\"https://colab.research.google.com/github/WhalepigJun/contest/blob/main/%ED%94%84%EB%B0%8D%EC%96%B8%EA%B3%BC%EC%A0%9C3.ipynb\" target=\"_parent\"><img src=\"https://colab.research.google.com/assets/colab-badge.svg\" alt=\"Open In Colab\"/></a>"
      ]
    },
    {
      "cell_type": "markdown",
      "metadata": {
        "id": "UkDtwekcphUL"
      },
      "source": [
        "#프로그래밍언어론 과제3\n",
        "\n",
        "20164834 박준근"
      ]
    },
    {
      "cell_type": "markdown",
      "metadata": {
        "id": "isYX6_JUEmNB"
      },
      "source": [
        "python으로 작성하였습니다.\n",
        "\n",
        "python으로 바로 생각하지 못한 문제들은 Haskell로 구현 후에 python으로 다시 생각해보았습니다."
      ]
    },
    {
      "cell_type": "code",
      "metadata": {
        "colab": {
          "base_uri": "https://localhost:8080/",
          "height": 0
        },
        "id": "yBoqDr9SHjQ3",
        "outputId": "372cfe0d-5290-4764-cea2-91fc87d1180f"
      },
      "source": [
        "def o(*procs):\n",
        "  if len(procs)==0:\n",
        "    return lambda x: x\n",
        "  f = procs[0]\n",
        "  g = o(*procs[1:])\n",
        "  return lambda x: f(g(x))\n",
        "\n",
        "def mapper(f): #map\n",
        "  return lambda x: [f(xi) for xi in x]\n",
        "\n",
        "def picker(p): #filter\n",
        "  return lambda x: [xi for xi in x if p(xi)]\n",
        "\n",
        "def folder(op, init):\n",
        "  def reduce(x):\n",
        "    if len(x)==0:\n",
        "      return init\n",
        "    return op(x[0],reduce(x[1:]))\n",
        "  return reduce\n",
        "\n",
        "import operator as op\n",
        "\n",
        "def C(f,x): return lambda y: f(x,y)\n",
        "def R(f,x): return lambda y: f(y,x)\n",
        "def W(oper): return lambda x: oper(x,x)\n",
        "\n",
        "double = W(op.add)\n",
        "square = W(op.mul)\n",
        "\n",
        "print(o(R(op.sub,1), W(op.mul), C(op.add,1), C(op.mul,2))(4))\n",
        "\n",
        "adder = folder(op.add,0)\n",
        "\n",
        "def iota(n):\n",
        "  return range(1, n+1)\n",
        "print(o(adder,iota)(10))\n",
        "\n",
        "sigma = o(adder, iota)\n",
        "factorial = o(folder(op.mul,1),iota)\n",
        "print(o(mapper(sigma), iota)(10))\n",
        "print(o(mapper(factorial), iota)(10))\n",
        "\n",
        "def quicksort(pred):\n",
        "  def sort(lst):\n",
        "    if len(lst)==0:\n",
        "      return lst\n",
        "    pivot = lst[0]\n",
        "    satisfied = picker(R(pred, pivot))(lst[1:])\n",
        "    unsatisfied = picker(o(op.not_, R(pred, pivot)))(lst[1:])\n",
        "    return sort(satisfied) + [pivot] + sort(unsatisfied)\n",
        "  return sort\n",
        "print(quicksort(op.gt)([5,1,2,5,-1,2,3,5,-2,-3]))\n",
        "\n",
        "def insertionSort(pred):\n",
        "  def insert(item,sorted):\n",
        "    if len(sorted)==0:\n",
        "      return [item]\n",
        "    elif pred(item, sorted[0]):\n",
        "      return [item]+sorted\n",
        "    return [sorted[0]] + insert(item, sorted[1:])\n",
        "  return folder(insert,[])\n",
        "print(insertionSort(op.gt)([5,1,2,5,-1,2,3,5,-2,-3]))\n",
        "\n",
        "def const(c):\n",
        "  return lambda x: c\n",
        "\n",
        "guessWhat = o(adder, mapper(const(1)))\n",
        "print(guessWhat([\"a\",\"b\",\"c\",\"d\",\"e\"]))\n",
        "\n",
        "def takeWhile(p):\n",
        "  return folder(lambda x, acc: [x]+acc if p(x) else [], [])\n",
        "print(takeWhile(o(R(op.lt, 200), W(op.mul)))(iota(20)))\n",
        "\n",
        "def primes(m):\n",
        "  def sieve(lst):\n",
        "    if len(lst)==0:\n",
        "      return lst\n",
        "    return [lst[0]]+sieve(\n",
        "        picker(o(R(op.gt,0), R(op.mod, lst[0])))(lst[1:]))\n",
        "  return sieve(list(range(2,m+1)))\n",
        "print(primes(10))"
      ],
      "execution_count": 1,
      "outputs": [
        {
          "output_type": "stream",
          "text": [
            "80\n",
            "55\n",
            "[1, 3, 6, 10, 15, 21, 28, 36, 45, 55]\n",
            "[1, 2, 6, 24, 120, 720, 5040, 40320, 362880, 3628800]\n",
            "[5, 5, 5, 3, 2, 2, 1, -1, -2, -3]\n",
            "[5, 5, 5, 3, 2, 2, 1, -1, -2, -3]\n",
            "5\n",
            "[1, 2, 3, 4, 5, 6, 7, 8, 9, 10, 11, 12, 13, 14]\n",
            "[2, 3, 5, 7]\n"
          ],
          "name": "stdout"
        }
      ]
    },
    {
      "cell_type": "markdown",
      "metadata": {
        "id": "_0Fbnf5jPsPB"
      },
      "source": [
        "\n",
        "\n",
        "---"
      ]
    },
    {
      "cell_type": "markdown",
      "metadata": {
        "id": "UWYJYJ0vPufb"
      },
      "source": [
        "\n",
        "\n",
        "---"
      ]
    },
    {
      "cell_type": "markdown",
      "metadata": {
        "id": "AGu3GcysPuin"
      },
      "source": [
        "\n",
        "\n",
        "---"
      ]
    },
    {
      "cell_type": "markdown",
      "metadata": {
        "id": "W3yahMU9PsVx"
      },
      "source": [
        "\n",
        "\n",
        "---"
      ]
    },
    {
      "cell_type": "markdown",
      "metadata": {
        "id": "NdOTGG29Njk9"
      },
      "source": [
        "\n",
        "\n",
        "---"
      ]
    },
    {
      "cell_type": "markdown",
      "metadata": {
        "id": "UVsMVO4JPsYp"
      },
      "source": [
        "\n",
        "\n",
        "---"
      ]
    },
    {
      "cell_type": "markdown",
      "metadata": {
        "id": "j_DIB0QJQL2l"
      },
      "source": [
        "\n",
        "\n",
        "---"
      ]
    },
    {
      "cell_type": "code",
      "metadata": {
        "id": "GA-C83ByO9GU"
      },
      "source": [
        "# 필요한 함수\n",
        "def o(*procs):\n",
        "  if len(procs)==0:\n",
        "    return lambda x: x\n",
        "  f = procs[0]\n",
        "  g = o(*procs[1:])\n",
        "  return lambda x: f(g(x))\n",
        "\n",
        "def mapper(f): #map\n",
        "  return lambda x: [f(xi) for xi in x]\n",
        "\n",
        "def picker(p): #filter\n",
        "  return lambda x: [xi for xi in x if p(xi)]\n",
        "\n",
        "def folder(op, init):\n",
        "  def reduce(x):\n",
        "    if len(x)==0:\n",
        "      return init\n",
        "    return op(x[0],reduce(x[1:]))\n",
        "  return reduce\n",
        "\n",
        "import operator as op\n",
        "\n",
        "def C(f,x): return lambda y: f(x,y)\n",
        "def R(f,x): return lambda y: f(y,x)\n",
        "def W(oper): return lambda x: oper(x,x)\n",
        "\n",
        "adder = folder(op.add,0)\n",
        "\n",
        "def iota(n):\n",
        "  return range(1, n+1)\n",
        "\n",
        "def const(c):\n",
        "  return lambda x: c"
      ],
      "execution_count": null,
      "outputs": []
    },
    {
      "cell_type": "markdown",
      "metadata": {
        "id": "pJO_o2KCQxxr"
      },
      "source": [
        "1."
      ]
    },
    {
      "cell_type": "code",
      "metadata": {
        "colab": {
          "base_uri": "https://localhost:8080/",
          "height": 0
        },
        "id": "Bg1Q4ZYaOzow",
        "outputId": "bd154ee6-9f3d-46a3-d0d7-d25165332506"
      },
      "source": [
        "# 1-1 count\n",
        "print(o(adder, mapper(const(1)), picker(C(op.eq,\"a\")))([\"1\",\"b\",\"a\",[\"c\",\"a\"]]))\n",
        "\n",
        "def count(x):\n",
        "  return o(adder, mapper(const(1)), picker(C(op.eq, x))) \n",
        "count(\"a\")([\"1\",\"b\",\"a\",[\"c\",\"a\"]])"
      ],
      "execution_count": 2,
      "outputs": [
        {
          "output_type": "stream",
          "text": [
            "1\n"
          ],
          "name": "stdout"
        },
        {
          "output_type": "execute_result",
          "data": {
            "text/plain": [
              "1"
            ]
          },
          "metadata": {
            "tags": []
          },
          "execution_count": 2
        }
      ]
    },
    {
      "cell_type": "code",
      "metadata": {
        "id": "H1w2TLnjZnSp"
      },
      "source": [
        "def deep_picker(p):\n",
        "  return lambda x: [xii for xi in x for xii in xi if p(xii)]"
      ],
      "execution_count": 3,
      "outputs": []
    },
    {
      "cell_type": "code",
      "metadata": {
        "colab": {
          "base_uri": "https://localhost:8080/",
          "height": 0
        },
        "id": "bVy-0Ih6ZtMW",
        "outputId": "23ca258f-54f0-4bda-c5b2-dca66723f40e"
      },
      "source": [
        "# 1-2 countall\n",
        "print(o(adder, mapper(const(1)), deep_picker(C(op.eq,\"a\")))([\"1\",\"b\",\"a\",[\"c\",\"a\"]]))\n",
        "\n",
        "def countall(x):\n",
        "  return o(adder, mapper(const(1)), deep_picker(C(op.eq,x)))\n",
        "countall(\"a\")([\"1\",\"b\",\"a\",[\"c\",\"a\"]])"
      ],
      "execution_count": 4,
      "outputs": [
        {
          "output_type": "stream",
          "text": [
            "2\n"
          ],
          "name": "stdout"
        },
        {
          "output_type": "execute_result",
          "data": {
            "text/plain": [
              "2"
            ]
          },
          "metadata": {
            "tags": []
          },
          "execution_count": 4
        }
      ]
    },
    {
      "cell_type": "markdown",
      "metadata": {
        "id": "O0SnLV7W-LfB"
      },
      "source": [
        "2."
      ]
    },
    {
      "cell_type": "code",
      "metadata": {
        "id": "-rdhHK8G1xRm"
      },
      "source": [
        "# reverse_folder1\n",
        "def reverse_folder1(op, init):\n",
        "  def reduce(x):\n",
        "    if len(x)==0:\n",
        "      return init\n",
        "    return op([x[len(x)-1]], reduce(x[:len(x)-1])) # 원래는 리스트의 인덱스를 끝에서부터 더해지도록 변경\n",
        "  return reduce"
      ],
      "execution_count": 5,
      "outputs": []
    },
    {
      "cell_type": "code",
      "metadata": {
        "colab": {
          "base_uri": "https://localhost:8080/",
          "height": 0
        },
        "id": "JKxAedRnMp2e",
        "outputId": "c4959557-c8f8-4f5f-da48-bbaf39e4db46"
      },
      "source": [
        "# reverse1\n",
        "print(reverse_folder1(op.add,[])([\"a\",\"b\",[\"c\",\"d\"],\"e\"]))\n",
        "\n",
        "reverse_adder1 = reverse_folder1(op.add,[])\n",
        "reverse_adder1([\"a\",\"b\",[\"c\",\"d\"],\"e\"])"
      ],
      "execution_count": 6,
      "outputs": [
        {
          "output_type": "stream",
          "text": [
            "['e', ['c', 'd'], 'b', 'a']\n"
          ],
          "name": "stdout"
        },
        {
          "output_type": "execute_result",
          "data": {
            "text/plain": [
              "['e', ['c', 'd'], 'b', 'a']"
            ]
          },
          "metadata": {
            "tags": []
          },
          "execution_count": 6
        }
      ]
    },
    {
      "cell_type": "code",
      "metadata": {
        "id": "LDBP0rQILTGc"
      },
      "source": [
        "# reverse_folder2\n",
        "def reverse_folder2(op, init):\n",
        "  def reduce(x):\n",
        "    if len(x)==0:\n",
        "      return init\n",
        "    return R(op, [x[0]])(reduce(x[1:])) # R(f,x)를 이용해 끝에서부터 더해지도록 설정\n",
        "  return reduce"
      ],
      "execution_count": 7,
      "outputs": []
    },
    {
      "cell_type": "code",
      "metadata": {
        "colab": {
          "base_uri": "https://localhost:8080/",
          "height": 0
        },
        "id": "T8ucDuRs2Nmi",
        "outputId": "c66bec35-a303-4056-ec67-95ea28e7dc1a"
      },
      "source": [
        "# reverse2\n",
        "print(reverse_folder2(op.add,[])([\"a\",\"b\",[\"c\",\"d\"],\"e\"]))\n",
        "\n",
        "reverse_adder2 = reverse_folder2(op.add,[])\n",
        "reverse_adder2([\"a\",\"b\",[\"c\",\"d\"],\"e\"])"
      ],
      "execution_count": 8,
      "outputs": [
        {
          "output_type": "stream",
          "text": [
            "['e', ['c', 'd'], 'b', 'a']\n"
          ],
          "name": "stdout"
        },
        {
          "output_type": "execute_result",
          "data": {
            "text/plain": [
              "['e', ['c', 'd'], 'b', 'a']"
            ]
          },
          "metadata": {
            "tags": []
          },
          "execution_count": 8
        }
      ]
    },
    {
      "cell_type": "code",
      "metadata": {
        "id": "T1Q4vCEV1H1j"
      },
      "source": [
        "# twist_folder1\n",
        "def twist_folder1(op, init):\n",
        "  def reduce(x):\n",
        "    if len(x)==0:\n",
        "      return init\n",
        "    if len(x)==1:\n",
        "      return x\n",
        "    return op([reduce(x[len(x)-1])], reduce(x[:len(x)-1]))\n",
        "  return reduce"
      ],
      "execution_count": 9,
      "outputs": []
    },
    {
      "cell_type": "code",
      "metadata": {
        "colab": {
          "base_uri": "https://localhost:8080/",
          "height": 0
        },
        "id": "hJqP7k3U3xzk",
        "outputId": "23283063-9c93-407b-9f8c-217713952f24"
      },
      "source": [
        "# twist1\n",
        "print(twist_folder1(op.add,[])([\"a\",\"b\",[\"c\",\"d\"],\"e\"]))\n",
        "\n",
        "twist_adder1 = twist_folder1(op.add,[])\n",
        "twist_adder1([\"a\",\"b\",[\"c\",\"d\"],\"e\"])"
      ],
      "execution_count": 10,
      "outputs": [
        {
          "output_type": "stream",
          "text": [
            "['e', ['d', 'c'], 'b', 'a']\n"
          ],
          "name": "stdout"
        },
        {
          "output_type": "execute_result",
          "data": {
            "text/plain": [
              "['e', ['d', 'c'], 'b', 'a']"
            ]
          },
          "metadata": {
            "tags": []
          },
          "execution_count": 10
        }
      ]
    },
    {
      "cell_type": "markdown",
      "metadata": {
        "id": "jS7Tea-yON4y"
      },
      "source": [
        "\n",
        "\n",
        "---"
      ]
    },
    {
      "cell_type": "code",
      "metadata": {
        "id": "JVzbYQuzMkXb"
      },
      "source": [
        "# twist_folder2\n",
        "def twist_folder2(op, init):\n",
        "  def reduce(x):\n",
        "    if len(x)==0:\n",
        "      return init\n",
        "    if len(x)==1:\n",
        "      return x\n",
        "    return R(op, [reduce(x[0])])(reduce(x[1:]))\n",
        "  return reduce"
      ],
      "execution_count": 11,
      "outputs": []
    },
    {
      "cell_type": "code",
      "metadata": {
        "colab": {
          "base_uri": "https://localhost:8080/",
          "height": 0
        },
        "id": "VX2GCW0-MvOt",
        "outputId": "4107537e-3f56-49aa-859f-5d064f28642b"
      },
      "source": [
        "# twist2\n",
        "print(twist_folder2(op.add,[])([\"a\",\"b\",[\"c\",\"d\"],\"e\"]))\n",
        "\n",
        "twist_adder2 = twist_folder2(op.add,[])\n",
        "twist_adder2([\"a\",\"b\",[\"c\",\"d\"],\"e\"])"
      ],
      "execution_count": 12,
      "outputs": [
        {
          "output_type": "stream",
          "text": [
            "['e', ['d', 'c'], 'b', 'a']\n"
          ],
          "name": "stdout"
        },
        {
          "output_type": "execute_result",
          "data": {
            "text/plain": [
              "['e', ['d', 'c'], 'b', 'a']"
            ]
          },
          "metadata": {
            "tags": []
          },
          "execution_count": 12
        }
      ]
    },
    {
      "cell_type": "markdown",
      "metadata": {
        "id": "V-Kv_eST-NAC"
      },
      "source": [
        "###3."
      ]
    },
    {
      "cell_type": "code",
      "metadata": {
        "id": "n6wBbhZu9qMy"
      },
      "source": [
        "def insertionSort(pred):\n",
        "  def insert(item,sorted):\n",
        "    if len(sorted)==0:\n",
        "      return [item]\n",
        "    elif pred(item, sorted[0]):\n",
        "      return [item]+sorted\n",
        "    return [sorted[0]] + insert(item, sorted[1:])\n",
        "  return folder(insert,[])"
      ],
      "execution_count": 13,
      "outputs": []
    },
    {
      "cell_type": "code",
      "metadata": {
        "colab": {
          "base_uri": "https://localhost:8080/",
          "height": 0
        },
        "id": "PAxy51tz9qEF",
        "outputId": "9f503154-c39a-4e3f-be7c-2d63508d7b3e"
      },
      "source": [
        "insertionSort(op.le)([4,3,2,6,8,5])"
      ],
      "execution_count": 14,
      "outputs": [
        {
          "output_type": "execute_result",
          "data": {
            "text/plain": [
              "[2, 3, 4, 5, 6, 8]"
            ]
          },
          "metadata": {
            "tags": []
          },
          "execution_count": 14
        }
      ]
    },
    {
      "cell_type": "markdown",
      "metadata": {
        "id": "q2hRfkdVRHS1"
      },
      "source": [
        "\n",
        "\n",
        "---"
      ]
    },
    {
      "cell_type": "markdown",
      "metadata": {
        "id": "orGjyCthRiDb"
      },
      "source": [
        "\n",
        "\n",
        "---"
      ]
    },
    {
      "cell_type": "markdown",
      "metadata": {
        "id": "X4yIPL29RiIy"
      },
      "source": [
        "\n",
        "\n",
        "---"
      ]
    },
    {
      "cell_type": "markdown",
      "metadata": {
        "id": "JUOTyIw0RiLp"
      },
      "source": [
        "\n",
        "\n",
        "---"
      ]
    },
    {
      "cell_type": "markdown",
      "metadata": {
        "id": "j2MH2VMlRiQw"
      },
      "source": [
        "\n",
        "\n",
        "---"
      ]
    },
    {
      "cell_type": "markdown",
      "metadata": {
        "id": "klUEPpt3RiT_"
      },
      "source": [
        "\n",
        "\n",
        "---"
      ]
    },
    {
      "cell_type": "markdown",
      "metadata": {
        "id": "W7tpV-A9RkxX"
      },
      "source": [
        "\n",
        "\n",
        "---"
      ]
    },
    {
      "cell_type": "markdown",
      "metadata": {
        "id": "Wb90wSSH-N33"
      },
      "source": [
        "###bonus problems"
      ]
    },
    {
      "cell_type": "markdown",
      "metadata": {
        "id": "D10_stUvJBzN"
      },
      "source": [
        "#### permutations"
      ]
    },
    {
      "cell_type": "code",
      "metadata": {
        "id": "jJHeZmq44KZA"
      },
      "source": [
        "#### Haskell\n",
        "### ways of splitting a list into two parts\n",
        "# splits :: [a] -> [([a],[a])]\n",
        "# splits [] = [([],[])]\n",
        "# splits (h:at) = ([],h:at) : [(h:bt,ct) | (bt,ct) <- splits at]\n",
        "\n",
        "### perms of a list\n",
        "# perms :: [a] -> [[a]]\n",
        "# perms [] = [[]]\n",
        "# perms (h:at) = [bt ++ h:ct | perm <- perms at, (bt,ct) <- splits perm]\n",
        "\n",
        "# perms [1,2,3]\n",
        "#   --> [[1,2,3],[2,1,3],[2,3,1],[1,3,2],[3,1,2],[3,2,1]]\n",
        "\n",
        "# 함수형언어 Haskell로 구현하고, python으로 옮겨보았습니다."
      ],
      "execution_count": 15,
      "outputs": []
    },
    {
      "cell_type": "code",
      "metadata": {
        "id": "uKGeON8I0tJ3"
      },
      "source": [
        "def split(i):\n",
        "  def partition(lst):\n",
        "    if len(lst)==0:\n",
        "      return lst\n",
        "    return (lst[:i],lst[i:])\n",
        "  return partition\n",
        "\n",
        "def splits(lst):\n",
        "  return [split(x)(lst) for x in range(len(lst)+1)]\n",
        "\n",
        "def perms(lst):\n",
        "  if len(lst)==1:\n",
        "    return [lst]\n",
        "  return [x[0]+[lst[0]]+x[1] for perm in perms(lst[1:]) for x in splits(perm)]"
      ],
      "execution_count": 16,
      "outputs": []
    },
    {
      "cell_type": "code",
      "metadata": {
        "colab": {
          "base_uri": "https://localhost:8080/",
          "height": 0
        },
        "id": "rS7HU9Kh5Wtj",
        "outputId": "0ab687d5-b265-46e9-8e96-3e16f4d841f1"
      },
      "source": [
        "perms([1,2,3])"
      ],
      "execution_count": 17,
      "outputs": [
        {
          "output_type": "execute_result",
          "data": {
            "text/plain": [
              "[[1, 2, 3], [2, 1, 3], [2, 3, 1], [1, 3, 2], [3, 1, 2], [3, 2, 1]]"
            ]
          },
          "metadata": {
            "tags": []
          },
          "execution_count": 17
        }
      ]
    },
    {
      "cell_type": "code",
      "metadata": {
        "colab": {
          "base_uri": "https://localhost:8080/",
          "height": 0
        },
        "id": "oSi6A67iEdNU",
        "outputId": "afcd9a4b-2174-4b60-8d5b-7f528463b932"
      },
      "source": [
        "perms([1,2,3,4])"
      ],
      "execution_count": 18,
      "outputs": [
        {
          "output_type": "execute_result",
          "data": {
            "text/plain": [
              "[[1, 2, 3, 4],\n",
              " [2, 1, 3, 4],\n",
              " [2, 3, 1, 4],\n",
              " [2, 3, 4, 1],\n",
              " [1, 3, 2, 4],\n",
              " [3, 1, 2, 4],\n",
              " [3, 2, 1, 4],\n",
              " [3, 2, 4, 1],\n",
              " [1, 3, 4, 2],\n",
              " [3, 1, 4, 2],\n",
              " [3, 4, 1, 2],\n",
              " [3, 4, 2, 1],\n",
              " [1, 2, 4, 3],\n",
              " [2, 1, 4, 3],\n",
              " [2, 4, 1, 3],\n",
              " [2, 4, 3, 1],\n",
              " [1, 4, 2, 3],\n",
              " [4, 1, 2, 3],\n",
              " [4, 2, 1, 3],\n",
              " [4, 2, 3, 1],\n",
              " [1, 4, 3, 2],\n",
              " [4, 1, 3, 2],\n",
              " [4, 3, 1, 2],\n",
              " [4, 3, 2, 1]]"
            ]
          },
          "metadata": {
            "tags": []
          },
          "execution_count": 18
        }
      ]
    },
    {
      "cell_type": "code",
      "metadata": {
        "colab": {
          "base_uri": "https://localhost:8080/",
          "height": 0
        },
        "id": "O2lxMViLD980",
        "outputId": "d021cb80-d3cd-49c2-d208-c715820e2d64"
      },
      "source": [
        "# permutation의 개수\n",
        "print(o(adder, mapper(const(1)), perms)([1,2,3,4]),\"개\")\n",
        "\n",
        "number_of_perms = o(adder, mapper(const(1)), perms)\n",
        "number_of_perms([1,2,3,4])"
      ],
      "execution_count": 19,
      "outputs": [
        {
          "output_type": "stream",
          "text": [
            "24 개\n"
          ],
          "name": "stdout"
        },
        {
          "output_type": "execute_result",
          "data": {
            "text/plain": [
              "24"
            ]
          },
          "metadata": {
            "tags": []
          },
          "execution_count": 19
        }
      ]
    },
    {
      "cell_type": "markdown",
      "metadata": {
        "id": "XH9DFKOiJGVu"
      },
      "source": [
        "#### powerset"
      ]
    },
    {
      "cell_type": "code",
      "metadata": {
        "id": "d4fl9cEbCJUH"
      },
      "source": [
        "# splits 함수를 약간 변형\n",
        "\n",
        "def split_(i):\n",
        "  def partition(lst):\n",
        "    if len(lst)==0:\n",
        "      return lst\n",
        "    return [lst[:i]]+[lst[i:]]\n",
        "  return partition\n",
        "\n",
        "def splits_(lst):\n",
        "  return [split_(x)(lst) for x in range(1,len(lst))]"
      ],
      "execution_count": 20,
      "outputs": []
    },
    {
      "cell_type": "code",
      "metadata": {
        "colab": {
          "base_uri": "https://localhost:8080/",
          "height": 0
        },
        "id": "F1y99x7oCJM3",
        "outputId": "c7f7b5e4-6624-4ee9-b613-7dc06dac4542"
      },
      "source": [
        "o(folder(op.add, []), splits_)([1,2,3])"
      ],
      "execution_count": 21,
      "outputs": [
        {
          "output_type": "execute_result",
          "data": {
            "text/plain": [
              "[[1], [2, 3], [1, 2], [3]]"
            ]
          },
          "metadata": {
            "tags": []
          },
          "execution_count": 21
        }
      ]
    },
    {
      "cell_type": "code",
      "metadata": {
        "id": "B6vCRiNALOyZ"
      },
      "source": [
        "def powerset(lst):\n",
        "  if len(lst)==0 or len(lst)==1:\n",
        "    return [lst]\n",
        "  return [[]] + o(folder(op.add,[]), splits_)(lst) + powerset(lst[1:len(lst)-1])"
      ],
      "execution_count": 22,
      "outputs": []
    },
    {
      "cell_type": "code",
      "metadata": {
        "colab": {
          "base_uri": "https://localhost:8080/",
          "height": 0
        },
        "id": "Ah_T4E0_MO5p",
        "outputId": "aa6e77c9-e91c-4b0f-8f18-af9742d20246"
      },
      "source": [
        "powerset([1,2,3])"
      ],
      "execution_count": 23,
      "outputs": [
        {
          "output_type": "execute_result",
          "data": {
            "text/plain": [
              "[[], [1], [2, 3], [1, 2], [3], [2]]"
            ]
          },
          "metadata": {
            "tags": []
          },
          "execution_count": 23
        }
      ]
    },
    {
      "cell_type": "code",
      "metadata": {
        "colab": {
          "base_uri": "https://localhost:8080/",
          "height": 0
        },
        "id": "zPWzBTmiMQnt",
        "outputId": "71adfdb0-44e6-4563-d7b0-84403465ab52"
      },
      "source": [
        "powerset([1,2,3,4,5])"
      ],
      "execution_count": 24,
      "outputs": [
        {
          "output_type": "execute_result",
          "data": {
            "text/plain": [
              "[[],\n",
              " [1],\n",
              " [2, 3, 4, 5],\n",
              " [1, 2],\n",
              " [3, 4, 5],\n",
              " [1, 2, 3],\n",
              " [4, 5],\n",
              " [1, 2, 3, 4],\n",
              " [5],\n",
              " [],\n",
              " [2],\n",
              " [3, 4],\n",
              " [2, 3],\n",
              " [4],\n",
              " [3]]"
            ]
          },
          "metadata": {
            "tags": []
          },
          "execution_count": 24
        }
      ]
    },
    {
      "cell_type": "code",
      "metadata": {
        "colab": {
          "base_uri": "https://localhost:8080/",
          "height": 0
        },
        "id": "FQWY-VCULkjv",
        "outputId": "5bb7936b-6c31-4fc9-ca87-7179c9ac382e"
      },
      "source": [
        "# powerset의 개수\n",
        "print(o(adder, mapper(const(1)), powerset)([1,2,3,4,5]), \"개\")\n",
        "\n",
        "number_of_powerset = o(adder, mapper(const(1)), powerset)\n",
        "number_of_powerset([1,2,3,4,5])\n"
      ],
      "execution_count": 25,
      "outputs": [
        {
          "output_type": "stream",
          "text": [
            "15 개\n"
          ],
          "name": "stdout"
        },
        {
          "output_type": "execute_result",
          "data": {
            "text/plain": [
              "15"
            ]
          },
          "metadata": {
            "tags": []
          },
          "execution_count": 25
        }
      ]
    }
  ]
}